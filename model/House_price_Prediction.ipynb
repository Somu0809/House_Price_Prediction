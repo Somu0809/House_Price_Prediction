{
  "nbformat": 4,
  "nbformat_minor": 0,
  "metadata": {
    "colab": {
      "provenance": []
    },
    "kernelspec": {
      "name": "python3",
      "display_name": "Python 3"
    },
    "language_info": {
      "name": "python"
    }
  },
  "cells": [
    {
      "cell_type": "code",
      "source": [
        "import pandas as pd\n",
        "import numpy as np\n",
        "from sklearn.model_selection import train_test_split\n",
        "from sklearn.preprocessing import OneHotEncoder, StandardScaler\n",
        "from sklearn.ensemble import RandomForestRegressor\n",
        "from sklearn.metrics import mean_squared_error\n",
        "import pickle\n",
        "\n",
        "# Load dataset\n",
        "df = pd.read_csv(\"Chennai houseing sale.csv\")\n",
        "\n",
        "# Handle missing values\n",
        "df.fillna(df.median(numeric_only=True), inplace=True)\n",
        "\n",
        "# Drop unnecessary columns\n",
        "df.drop([\"PRT_ID\", \"DATE_SALE\", \"DATE_BUILD\"], axis=1, inplace=True)\n",
        "\n",
        "# Select only the relevant columns\n",
        "df = df[[\"AREA\", \"INT_SQFT\", \"DIST_MAINROAD\", \"N_BEDROOM\", \"N_BATHROOM\", \"N_ROOM\", \"SALE_COND\", \"PARK_FACIL\", \"SALES_PRICE\"]]\n",
        "\n",
        "# Encode categorical variables with drop='first' to avoid multicollinearity\n",
        "categorical_cols = [\"AREA\", \"SALE_COND\", \"PARK_FACIL\"]\n",
        "\n",
        "# Initialize OneHotEncoder with handle_unknown='ignore' and sparse_output=True\n",
        "encoder = OneHotEncoder(drop='first', handle_unknown='ignore', sparse_output=True)\n",
        "\n",
        "# Encode categorical features\n",
        "encoded_features = encoder.fit_transform(df[categorical_cols])\n",
        "\n",
        "# Standardize numerical data\n",
        "scaler = StandardScaler()\n",
        "numerical_cols = [\"INT_SQFT\", \"DIST_MAINROAD\", \"N_BEDROOM\", \"N_BATHROOM\", \"N_ROOM\"]\n",
        "scaled_features = scaler.fit_transform(df[numerical_cols])\n",
        "\n",
        "# Convert sparse matrix to dense to combine with scaled features\n",
        "encoded_features_dense = encoded_features.toarray()\n",
        "\n",
        "# Combine features (scaled numerical and encoded categorical)\n",
        "X = np.hstack((scaled_features, encoded_features_dense))\n",
        "y = df[\"SALES_PRICE\"]\n",
        "\n",
        "# Train-test split\n",
        "X_train, X_test, y_train, y_test = train_test_split(X, y, test_size=0.2, random_state=42)\n",
        "\n",
        "# Train Random Forest model with more trees to improve accuracy\n",
        "model = RandomForestRegressor(n_estimators=200, random_state=42)\n",
        "model.fit(X_train, y_train)\n",
        "\n",
        "# Make predictions on test set\n",
        "y_pred = model.predict(X_test)\n",
        "\n",
        "# Calculate and print the model performance (Mean Squared Error)\n",
        "mse = mean_squared_error(y_test, y_pred)\n",
        "print(f\"Mean Squared Error: {mse}\")\n",
        "\n",
        "# Calculate accuracy (R^2 score)\n",
        "accuracy = model.score(X_test, y_test)\n",
        "print(f\"Accuracy (R^2 Score): {accuracy}\")\n",
        "\n",
        "# Save the model, encoder, and scaler to .pkl files\n",
        "with open(\"model.pkl\", \"wb\") as model_file:\n",
        "    pickle.dump(model, model_file)\n",
        "\n",
        "with open(\"encoder.pkl\", \"wb\") as encoder_file:\n",
        "    pickle.dump(encoder, encoder_file)\n",
        "\n",
        "with open(\"scaler.pkl\", \"wb\") as scaler_file:\n",
        "    pickle.dump(scaler, scaler_file)\n",
        "\n",
        "print(\"Model, encoder, and scaler have been saved as .pkl files.\")\n"
      ],
      "metadata": {
        "colab": {
          "base_uri": "https://localhost:8080/"
        },
        "id": "pHbwM0PUVeXl",
        "outputId": "365be41c-73d3-42ec-d018-98745e208073"
      },
      "execution_count": null,
      "outputs": [
        {
          "output_type": "stream",
          "name": "stdout",
          "text": [
            "Mean Squared Error: 6233342740039.03\n",
            "Accuracy (R^2 Score): 0.5255270255528559\n",
            "Model, encoder, and scaler have been saved as .pkl files.\n"
          ]
        }
      ]
    },
    {
      "cell_type": "code",
      "source": [
        "import pickle\n",
        "import numpy as np\n",
        "from sklearn.preprocessing import StandardScaler\n",
        "from sklearn.preprocessing import OneHotEncoder\n",
        "\n",
        "# Load the saved model, encoder, and scaler from .pkl files\n",
        "with open(\"model.pkl\", \"rb\") as model_file:\n",
        "    model = pickle.load(model_file)\n",
        "\n",
        "with open(\"encoder.pkl\", \"rb\") as encoder_file:\n",
        "    encoder = pickle.load(encoder_file)\n",
        "\n",
        "with open(\"scaler.pkl\", \"rb\") as scaler_file:\n",
        "    scaler = pickle.load(scaler_file)\n",
        "\n",
        "# Example input data for testing (replace with real data for actual testing)\n",
        "test_data = {\n",
        "    \"AREA\": [\"Karapakkam\"],           # Example categorical data\n",
        "    \"INT_SQFT\": [1004],          # Example numerical data\n",
        "    \"DIST_MAINROAD\": [131],        # Example numerical data\n",
        "    \"N_BEDROOM\": [1],            # Example numerical data\n",
        "    \"N_BATHROOM\": [1],           # Example numerical data\n",
        "    \"N_ROOM\": [3],               # Example numerical data\n",
        "    \"SALE_COND\": [\"AbNormal\"],     # Example categorical data\n",
        "    \"PARK_FACIL\": [\"Yes\"]        # Example categorical data\n",
        "}\n",
        "\n",
        "# Convert test data into a DataFrame\n",
        "import pandas as pd\n",
        "test_df = pd.DataFrame(test_data)\n",
        "\n",
        "# Preprocess the categorical variables using the encoder\n",
        "encoded_test_features = encoder.transform(test_df[[\"AREA\", \"SALE_COND\", \"PARK_FACIL\"]]).toarray()\n",
        "\n",
        "# Standardize numerical features using the scaler\n",
        "scaled_test_features = scaler.transform(test_df[[\"INT_SQFT\", \"DIST_MAINROAD\", \"N_BEDROOM\", \"N_BATHROOM\", \"N_ROOM\"]])\n",
        "\n",
        "# Combine encoded and scaled features\n",
        "X_test_new = np.hstack((scaled_test_features, encoded_test_features))\n",
        "\n",
        "# Make a prediction using the trained model\n",
        "predicted_price = model.predict(X_test_new)\n",
        "\n",
        "# Print the predicted house price\n",
        "print(f\"Predicted House Price: {predicted_price[0]}\")\n"
      ],
      "metadata": {
        "colab": {
          "base_uri": "https://localhost:8080/"
        },
        "id": "JnupXpv5cTaZ",
        "outputId": "1d861869-885f-47ea-b826-c06b5278c222"
      },
      "execution_count": null,
      "outputs": [
        {
          "output_type": "stream",
          "name": "stdout",
          "text": [
            "Predicted House Price: 7562173.125\n"
          ]
        }
      ]
    }
  ]
}